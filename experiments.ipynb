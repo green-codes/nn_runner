{
 "cells": [
  {
   "cell_type": "code",
   "execution_count": null,
   "metadata": {},
   "outputs": [],
   "source": [
    "import torch\n",
    "import torch.nn as nn\n",
    "import torchvision\n",
    "\n",
    "%matplotlib nbagg\n",
    "import numpy as np\n",
    "import matplotlib.pyplot as plt\n",
    "\n",
    "import time\n",
    "import os\n",
    "os.environ['KMP_DUPLICATE_?LIB_OK']='True'\n",
    "\n",
    "from dataset import *\n",
    "from transforms import *\n",
    "from criteria import *\n",
    "from torch.utils.data import DataLoader, random_split\n",
    "\n",
    "# torch.manual_seed(42)"
   ]
  },
  {
   "cell_type": "markdown",
   "metadata": {},
   "source": [
    "## Dataset"
   ]
  },
  {
   "cell_type": "code",
   "execution_count": null,
   "metadata": {},
   "outputs": [],
   "source": [
    "x_transform = torchvision.transforms.Compose([PadOrCenterCrop((256,256)),\n",
    "                                              ToTensor(make_CHW=True, input_format=\"HWC\"),\n",
    "                                              ToCuda()])\n",
    "y_transform = torchvision.transforms.Compose([lambda y: np.array(eval(y)),\n",
    "                                              ToTensor(make_CHW=False, out_type=torch.long),\n",
    "                                              ToCuda()])\n",
    "\n",
    "data_dir = \"../dr_experiments/data/\"\n",
    "ds_train = SimpleDataset(data_dir + \"x_train.txt\", data_dir + \"t_train.txt\",\n",
    "                         x_transform=x_transform, y_transform=y_transform,\n",
    "                         x_path_prefix=\"../dr_experiments\")\n",
    "ds_val = SimpleDataset(data_dir + \"x_val.txt\", data_dir + \"t_val.txt\",\n",
    "                       x_transform=x_transform, y_transform=y_transform,\n",
    "                       x_path_prefix=\"../dr_experiments\")\n",
    "dl_train = DataLoader(ds_train, batch_size=12, shuffle=True, num_workers=0)\n",
    "dl_val = DataLoader(ds_val, batch_size=18, shuffle=True, num_workers=0)"
   ]
  },
  {
   "cell_type": "markdown",
   "metadata": {},
   "source": [
    "## Model"
   ]
  },
  {
   "cell_type": "code",
   "execution_count": null,
   "metadata": {},
   "outputs": [],
   "source": [
    "model = torchvision.models.resnet152(pretrained=True, progress=True)\n",
    "\n",
    "# replace the fc layer\n",
    "model = nn.Sequential(*[m for m in model.children()][:-1], \n",
    "                      nn.Flatten(),  # or shapes won't work out\n",
    "                      nn.Linear(2048,5))\n",
    "\n",
    "if torch.cuda.is_available():\n",
    "    model = model.cuda()"
   ]
  },
  {
   "cell_type": "code",
   "execution_count": null,
   "metadata": {},
   "outputs": [],
   "source": [
    "sum(p.numel() for p in model.parameters())"
   ]
  },
  {
   "cell_type": "code",
   "execution_count": null,
   "metadata": {},
   "outputs": [],
   "source": [
    "load_model = False\n",
    "model_file = \"models_gn_8_1-9/model_e200.pkl\"\n",
    "if load_model:\n",
    "    if torch.cuda.is_available():\n",
    "        model.load_state_dict(torch.load(model_file))\n",
    "    else:\n",
    "        model.load_state_dict(torch.load(model_file, map_location=torch.device('cpu')))"
   ]
  },
  {
   "cell_type": "markdown",
   "metadata": {},
   "source": [
    "## Training"
   ]
  },
  {
   "cell_type": "code",
   "execution_count": null,
   "metadata": {},
   "outputs": [],
   "source": [
    "import torch.optim as optim\n",
    "\n",
    "criterion = nn.CrossEntropyLoss()\n",
    "criterion = criterion.cuda() if torch.cuda.is_available() else criterion\n",
    "optimizer = optim.Adam(model.parameters(), lr=1e-3)"
   ]
  },
  {
   "cell_type": "code",
   "execution_count": null,
   "metadata": {},
   "outputs": [],
   "source": [
    "fig, ax = plt.subplots(1, 1)\n",
    "ax.set_ylim(0,1)\n",
    "hl_train, = ax.plot([], [])\n",
    "hl_val, = ax.plot([], [])\n",
    "fig.canvas.draw()"
   ]
  },
  {
   "cell_type": "code",
   "execution_count": null,
   "metadata": {},
   "outputs": [],
   "source": [
    "from datetime import datetime, timedelta\n",
    "start_time = datetime.now()\n",
    "\n",
    "save_model = True\n",
    "save_period = 10\n",
    "save_root = \"../dr_experiments/exp1/\"\n",
    "model_file_template = save_root + \"model_e{}.pkl\"\n",
    "\n",
    "save_loss = True\n",
    "loss_file_path = save_root + \"loss.pkl\"\n",
    "loss_png_path = save_root + \"loss.png\"\n",
    "train_loss = []\n",
    "val_loss = []\n",
    "\n",
    "epochs = 200\n",
    "for epoch in range(epochs):  # loop over the dataset multiple times\n",
    "\n",
    "    model.train()\n",
    "    train_loss_epoch = []\n",
    "    for i, (inputs, labels) in enumerate(dl_train):\n",
    "        optimizer.zero_grad()\n",
    "        outputs = model.forward(inputs).squeeze()\n",
    "        loss = criterion(outputs, labels)\n",
    "        loss.backward()\n",
    "        optimizer.step()\n",
    "        train_loss_epoch += [loss.item()]\n",
    "\n",
    "        # print statistics\n",
    "        progress = (i+1 + epoch*len(dl_train)) / (epochs*len(dl_train))\n",
    "        time_elapsed = datetime.now() - start_time\n",
    "        time_to_completion = time_elapsed / progress - time_elapsed\n",
    "        print(\"Epoch: {}, Train, Batch {}/{}, ETA: \".format(epoch+1, i+1, len(dl_train)) + \n",
    "              str(time_to_completion), end='\\r')\n",
    "                \n",
    "    model.eval()\n",
    "    val_loss_epoch = []\n",
    "    for i, (inputs, labels) in enumerate(dl_val):\n",
    "        with torch.no_grad():\n",
    "            outputs = model.forward(inputs).squeeze()\n",
    "            loss = criterion(outputs, labels)\n",
    "        val_loss_epoch += [loss.item()]\n",
    "        \n",
    "        print(\"Epoch: {}, Val, Batch {}/{}\".format(epoch+1, i+1, len(dl_val))+' '*40, end='\\r')\n",
    "\n",
    "    train_loss += [train_loss_epoch]\n",
    "    val_loss += [val_loss_epoch]\n",
    "    \n",
    "    # update loss graph\n",
    "    hl_train.set_xdata(np.append(hl_train.get_xdata(), epoch+1))\n",
    "    hl_train.set_ydata(np.append(hl_train.get_ydata(), np.mean(train_loss_epoch)))\n",
    "    hl_val.set_xdata(np.append(hl_val.get_xdata(), epoch+1))\n",
    "    hl_val.set_ydata(np.append(hl_val.get_ydata(), np.mean(val_loss_epoch)))\n",
    "    ax.legend(['Train','Val']); ax.relim(); ax.autoscale(axis='x'); fig.canvas.draw()\n",
    "        \n",
    "    if save_model and (epoch+1) % save_period == 0:\n",
    "        if not os.path.exists(save_root):\n",
    "            os.makedirs(save_root)\n",
    "        if isinstance(model, nn.DataParallel):\n",
    "            torch.save(model.module.state_dict(), model_file_template.format(epoch+1))\n",
    "        else:\n",
    "            torch.save(model.state_dict(), model_file_template.format(epoch+1))\n",
    "\n",
    "if save_loss:\n",
    "    pickle.dump((train_loss, val_loss), open(loss_file_path, 'wb'))\n",
    "    plt.savefig(loss_png_path)\n",
    "\n",
    "print('\\nFinished Training')"
   ]
  },
  {
   "cell_type": "code",
   "execution_count": null,
   "metadata": {},
   "outputs": [],
   "source": [
    "# if save_loss:\n",
    "#     pickle.dump((train_loss, val_loss), open(loss_file_path, 'wb'))\n",
    "#     plt.savefig(loss_png_path)"
   ]
  },
  {
   "cell_type": "markdown",
   "metadata": {},
   "source": [
    "# Tests"
   ]
  },
  {
   "cell_type": "code",
   "execution_count": null,
   "metadata": {},
   "outputs": [],
   "source": []
  }
 ],
 "metadata": {
  "kernelspec": {
   "display_name": "Python 3",
   "language": "python",
   "name": "python3"
  },
  "language_info": {
   "codemirror_mode": {
    "name": "ipython",
    "version": 3
   },
   "file_extension": ".py",
   "mimetype": "text/x-python",
   "name": "python",
   "nbconvert_exporter": "python",
   "pygments_lexer": "ipython3",
   "version": "3.7.6"
  }
 },
 "nbformat": 4,
 "nbformat_minor": 4
}
